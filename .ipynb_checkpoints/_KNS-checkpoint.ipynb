{
 "cells": [
  {
   "cell_type": "code",
   "execution_count": 1,
   "id": "bd2e8641",
   "metadata": {
    "collapsed": false,
    "jupyter": {
     "outputs_hidden": false
    },
    "pycharm": {
     "name": "#%%\n"
    }
   },
   "outputs": [],
   "source": [
    "from abc import ABC, abstractmethod\n",
    "from collections import Counter\n",
    "from itertools import combinations\n",
    "import random"
   ]
  },
  {
   "cell_type": "code",
   "execution_count": 2,
   "id": "1011e32e",
   "metadata": {
    "collapsed": false,
    "jupyter": {
     "outputs_hidden": false
    },
    "pycharm": {
     "name": "#%%\n"
    }
   },
   "outputs": [],
   "source": [
    "class Utils:\n",
    "    def check_counts(self, string):\n",
    "        for item, value in Counter(string).items():\n",
    "            if value%2 == 1:\n",
    "                return False\n",
    "        return True\n",
    "\n",
    "    def generate_substrings(self, string, masterlist):\n",
    "        if string not in masterlist:\n",
    "            if self.check_counts(string):\n",
    "                masterlist.append(string)\n",
    "        if len(string) < 2:\n",
    "            return\n",
    "        else:\n",
    "            self.generate_substrings(string[1:], masterlist)\n",
    "            self.generate_substrings(string[:-1], masterlist)\n",
    "\n",
    "    def evaluate_combination(self, a, b, substring):\n",
    "        for i in range(len(a)):\n",
    "            if substring[a[i]] != substring[b[i]]:\n",
    "                return False\n",
    "        return True\n",
    "\n",
    "    def check_substring_for_twins(self, substring):\n",
    "        length = len(substring)\n",
    "        indices = set(range(length))\n",
    "\n",
    "        for a in combinations(indices, int(length/2)):\n",
    "            b = tuple(indices - set(a))\n",
    "            if self.evaluate_combination(a, b, substring):\n",
    "                #print(f\"Found twins in {substring} with indices{a} and {b}\")\n",
    "                return [substring, a, b]\n",
    "        return None\n",
    "    \n",
    "    def subsample(self, iterable, rate):\n",
    "        if rate > 0.9:\n",
    "            rate = 0.9\n",
    "        return random.sample(iterable, k = int((1-rate)*len(iterable)))\n",
    "    \n",
    "    def generate_possible_positions(self, word):\n",
    "        return [x for x in range(len(word)+1)]\n",
    "    \n",
    "    def deduplicate(self, iterable):\n",
    "        d = {}\n",
    "        for x in iterable:\n",
    "            d[x] = None\n",
    "        return list(d.keys())\n",
    "    "
   ]
  },
  {
   "cell_type": "code",
   "execution_count": 3,
   "id": "656a9912-76d5-43ba-b520-2dff8cf63598",
   "metadata": {},
   "outputs": [],
   "source": [
    "class WordLookup:\n",
    "    def __init__(self):\n",
    "        self.lookup = {}\n",
    "        \n",
    "    def was_evaluated(self, word):\n",
    "        return word in self.lookup.keys()\n",
    "    \n",
    "    def add_evaluated_and_combinations(self, string, twins):\n",
    "        start = string.find(twins)\n",
    "        end = start + len(twins)\n",
    "        for i in range(0, start + 1):\n",
    "            for j in range(end, len(string)):\n",
    "                self.add_evaluated(string[i:j+1], True)\n",
    "    \n",
    "    def add_evaluated(self, word, result):\n",
    "        self.lookup[word] = result\n",
    "        \n",
    "    def has_twins(self, word):\n",
    "        if not self.was_evaluated(word):\n",
    "            raise IndexError\n",
    "        else:\n",
    "            return self.lookup[word]"
   ]
  },
  {
   "cell_type": "code",
   "execution_count": 4,
   "id": "1bbed4a3",
   "metadata": {
    "collapsed": false,
    "jupyter": {
     "outputs_hidden": false
    },
    "pycharm": {
     "name": "#%%\n"
    }
   },
   "outputs": [],
   "source": [
    "class GameState:\n",
    "    \n",
    "    def __init__(self, config):\n",
    "        self.config = config\n",
    "        self.current_string = \"\"\n",
    "        self.current_position = 0\n",
    "        self.alphabet = self.generate_alphabet(config['m'])\n",
    "        self.winner = None\n",
    "        self.playing = True\n",
    "        self.lookup  = WordLookup()\n",
    "        self.n_ahead = config['n_steps_ahead']\n",
    "        self.sample_rate_per_step = config['sample_rate_per_step']\n",
    "        \n",
    "    def setup_config(self, config):\n",
    "        self.config = config\n",
    "    \n",
    "    def setup_initial_values(self, config):\n",
    "        number_of_letters_in_alphabet = GameState.get_number_of_letters_from_user()\n",
    "        max_word_length = GameState.get_max_word_length_from_user()\n",
    "        simple_config = {'m': number_of_letters_in_alphabet, 'n': max_word_length}\n",
    "        self.config = config\n",
    "        self.current_string = \"\"\n",
    "        self.current_position = 0\n",
    "        self.alphabet = self.generate_alphabet(simple_config['m'])\n",
    "        self.winner = None\n",
    "        self.playing = True\n",
    "        self.lookup  = WordLookup()\n",
    "        self.n_ahead = config['n_steps_ahead']\n",
    "        self.sample_rate_per_step = config['sample_rate_per_step']\n",
    "    \n",
    "    def get_current_string(self):\n",
    "        return self.current_string\n",
    "    \n",
    "    def get_alphabet(self):\n",
    "        return self.alphabet\n",
    "    \n",
    "    def get_current_position(self):\n",
    "        return self.current_position\n",
    "    \n",
    "    def get_winner(self):\n",
    "        return self.winner\n",
    "    \n",
    "    def get_string_length(self):\n",
    "        return len(self.current_string)\n",
    "    \n",
    "    def set_current_position(self, position):\n",
    "        self.current_position = position\n",
    "    \n",
    "    def set_alphabet(self, alphabet):\n",
    "        self.alphabet = alphabet\n",
    "    \n",
    "    def set_winner(self, player):\n",
    "        self.winner = player\n",
    "        \n",
    "    def set_current_string(self, string):\n",
    "        self.current_string = string\n",
    "    \n",
    "    def is_playing(self):\n",
    "        return self.playing\n",
    "    \n",
    "    def is_not_playing(self):\n",
    "        self.playing = False\n",
    "    \n",
    "    def restart_game(self, config):\n",
    "        self.setup_initial_values(config)\n",
    "    \n",
    "    def update_current_string(self, char):\n",
    "        self.current_string = self.current_string[:self.current_position] + char + self.current_string[self.current_position:]\n",
    "    \n",
    "    def generate_alphabet(self, number_of_letters_in_alphabet):\n",
    "        return ['a', 'b', 'c', 'd', 'e', 'f', 'g', 'h', 'i', 'j', 'k', 'l', 'm', 'n', 'o', 'p', 'r', 's', 't', 'u', 'v', 'w', 'x', 'y', 'z'][0:number_of_letters_in_alphabet + 1]\n",
    "    \n",
    "    def get_number_of_letters_from_user():\n",
    "        number_of_letters_in_alphabet = None\n",
    "        while number_of_letters_in_alphabet == None:\n",
    "            try:\n",
    "                number_of_letters_in_alphabet = int(input(\"How many letters in alphabet: \"))\n",
    "                if number_of_letters_in_alphabet < 1 or number_of_letters_in_alphabet > 26:\n",
    "                    number_of_letters_in_alphabet = None\n",
    "                    print(\"Number of letters in alphabet should be more than 0 and less than 26\")\n",
    "            except:\n",
    "                number_of_letters_in_alphabet = None\n",
    "                print(\"Invalid input!\")\n",
    "        number_of_letters_in_alphabet = number_of_letters_in_alphabet - 1\n",
    "        return number_of_letters_in_alphabet\n",
    "    \n",
    "    def get_max_word_length_from_user():\n",
    "        max_word_length = None\n",
    "        while max_word_length == None:\n",
    "            try:\n",
    "                max_word_length = int(input(\"How maximal length word should have: \"))\n",
    "                if max_word_length < 1:\n",
    "                    max_word_length = None\n",
    "                    print(\"Maximal word length should be more than 0\")\n",
    "            except:\n",
    "                max_word_length = None\n",
    "                print(\"Invalid input!\")\n",
    "        \n",
    "        return max_word_length"
   ]
  },
  {
   "cell_type": "code",
   "execution_count": 5,
   "id": "69ae0e88-c00b-4173-b46f-63d0fca6b5bd",
   "metadata": {},
   "outputs": [],
   "source": [
    "class Player(ABC):\n",
    "    \n",
    "    @abstractmethod\n",
    "    def move(self):\n",
    "        pass"
   ]
  },
  {
   "cell_type": "code",
   "execution_count": 6,
   "id": "ae671f5e",
   "metadata": {
    "collapsed": false,
    "jupyter": {
     "outputs_hidden": false
    },
    "pycharm": {
     "name": "#%%\n"
    }
   },
   "outputs": [],
   "source": [
    "class Human(Player):\n",
    "    def move(self, game_state):\n",
    "        self.print_possible_positions(game_state)\n",
    "\n",
    "        position = None\n",
    "        while position == None:\n",
    "            try:\n",
    "                position = int(input(\"Choose position: \"))\n",
    "                if not self.check_validity(position, game_state):\n",
    "                    position = None\n",
    "                    print(\"Invalid position!\")\n",
    "            except:\n",
    "                position = None\n",
    "                print(\"Invalid input!\")\n",
    "            \n",
    "        game_state.set_current_position(position)\n",
    "        \n",
    "    def check_validity(self, position, game_state):\n",
    "        current_string = game_state.get_current_string()\n",
    "        return position >= 0 and position <= len(current_string)\n",
    "    \n",
    "    def print_possible_positions(self, game_state):\n",
    "        current_string = game_state.get_current_string()\n",
    "        print(current_string)\n",
    "        print_string = \"_\"\n",
    "        for letter in current_string:\n",
    "            print_string += letter\n",
    "            print_string += \"_\"\n",
    "        \n",
    "        number_string = \"\"\n",
    "        num = 0\n",
    "        for character in print_string:\n",
    "            if character == \"_\":\n",
    "                number_string += str(num)\n",
    "                num += 1\n",
    "            else:\n",
    "                number_string += \" \"\n",
    "        print(f\"{print_string}\\n{number_string}\")\n",
    "    "
   ]
  },
  {
   "cell_type": "code",
   "execution_count": 7,
   "id": "e49698a3-d601-4ecb-ae63-5028b7964e5a",
   "metadata": {},
   "outputs": [],
   "source": [
    "class AI(Player):\n",
    "    def __init__(self, utils):\n",
    "        self.utils = utils\n",
    "        \n",
    "    def move(self, game_state):\n",
    "        alphabet = game_state.get_alphabet()\n",
    "        current_string = game_state.get_current_string()\n",
    "        current_position = game_state.get_current_position()\n",
    "        \n",
    "        char = self.find_best_letter(current_string, current_position, alphabet, game_state)\n",
    "        game_state.update_current_string(char)\n",
    "        \n",
    "    def evaluate_single_string(self, string, game_state):\n",
    "        return self.check_for_twins(string, game_state)\n",
    "    \n",
    "    def check_for_twins(self, string, game_state):\n",
    "        if game_state.lookup.was_evaluated(string):\n",
    "            return game_state.lookup.has_twins(string)\n",
    "        else:\n",
    "            substrings = []\n",
    "            self.utils.generate_substrings(string, substrings)\n",
    "            for substring in self.utils.deduplicate(reversed(substrings)):\n",
    "                if game_state.lookup.was_evaluated(substring):\n",
    "                    if game_state.lookup.has_twins(substring):\n",
    "                        return True\n",
    "                twins_check = self.utils.check_substring_for_twins(substring)\n",
    "                if twins_check:\n",
    "                    pos1 = twins_check[1]\n",
    "                    pos2 = twins_check[2]\n",
    "                    if len(pos1) > 1:\n",
    "                        twins = substring[pos1[0]:pos2[1]+1]\n",
    "                    else:\n",
    "                        twins = substring[pos1[0]:pos2[0]+1]\n",
    "                    \n",
    "                    game_state.lookup.add_evaluated_and_combinations(string, twins)\n",
    "                    return True\n",
    "                else:\n",
    "                    game_state.lookup.add_evaluated(substring, False)\n",
    "            return False\n",
    "    \n",
    "    def generate_strings(self, current_string, current_position, alhpabet):\n",
    "        beggining = current_string[:current_position]\n",
    "        end = current_string[current_position:]\n",
    "        strings = [f\"{beggining}{char}{end}\" for char in alhpabet]\n",
    "        \n",
    "        return strings\n",
    "    \n",
    "\n",
    "    def generate_strings_for_lookahead(self, candidate, alphabet, n_ahead):\n",
    "        to_evaluate_per_level = {}\n",
    "        candidates = [candidate]\n",
    "        for level in range(0, n_ahead):\n",
    "            to_evaluate = []\n",
    "            for candidate in candidates:\n",
    "                for pos in self.utils.generate_possible_positions(candidate):\n",
    "                    strings = self.generate_strings(candidate, pos, alphabet)\n",
    "                    to_evaluate.extend(strings)\n",
    "            candidates = to_evaluate\n",
    "            to_evaluate_per_level[level] = to_evaluate\n",
    "        \n",
    "        return to_evaluate_per_level\n",
    "    \n",
    "    def evaluate_sample(self, sample, game_state):\n",
    "        twins = 0\n",
    "        not_twins = 0\n",
    "        \n",
    "        for candidate in sample:\n",
    "            if game_state.lookup.was_evaluated(candidate):\n",
    "                if game_state.lookup.has_twins(candidate):\n",
    "                    twins += 1\n",
    "                else:\n",
    "                    not_twins += 1\n",
    "            else:\n",
    "                check_result = self.check_for_twins(candidate, game_state)\n",
    "                if check_result:\n",
    "                    game_state.lookup.add_evaluated(candidate, True)\n",
    "                    twins += 1\n",
    "                else:\n",
    "                    game_state.lookup.add_evaluated(candidate, False)\n",
    "                    not_twins += 1\n",
    "        return twins/len(sample)\n",
    "    \n",
    "    def calculate_prob_of_twins(self, candidate, game_state, n_ahead, alphabet, sample_rate_per_step = 0.10):\n",
    "        sample_rate_per_step = game_state.sample_rate_per_step\n",
    "        lookahead_candidates = self.generate_strings_for_lookahead(candidate, alphabet, n_ahead)\n",
    "        \n",
    "        probs_per_level = {}\n",
    "        for level, candidates in lookahead_candidates.items():\n",
    "            if level > 0:\n",
    "                sample = self.utils.subsample(candidates, sample_rate_per_step * (len(candidate)-1))\n",
    "            else:\n",
    "                sample = candidates\n",
    "            probs = self.evaluate_sample(sample, game_state)\n",
    "            probs_per_level[level] = probs\n",
    "            \n",
    "        return probs_per_level\n",
    "            \n",
    "    def calculate_risks_from_probs(self, probs, n_ahead):\n",
    "        risks = {}\n",
    "        for candidate, probabilities in probs.items():\n",
    "            risk = []\n",
    "            for level, prob in probabilities.items():\n",
    "                risk.append(prob * (n_ahead - level))\n",
    "            risks[candidate] = sum(risk)\n",
    "            \n",
    "        return risks\n",
    "    \n",
    "    def find_best_letter(self, current_string, current_position, alphabet, game_state, n_ahead = 3):\n",
    "        n_ahead = game_state.n_ahead\n",
    "        candidates = self.generate_strings(current_string, current_position, alphabet)\n",
    "        \n",
    "        current_possibilities = []\n",
    "        has_twins = []\n",
    "        for candidate in candidates:\n",
    "            #print(candidate)\n",
    "            if not self.evaluate_single_string(candidate, game_state):\n",
    "                current_possibilities.append(candidate)\n",
    "            else:\n",
    "                has_twins.append(candidate)\n",
    "        \n",
    "        if n_ahead and current_possibilities:\n",
    "            probs = {}\n",
    "            for candidate in current_possibilities:\n",
    "                probs[candidate] = self.calculate_prob_of_twins(candidate, game_state, n_ahead, alphabet)\n",
    "            #print(probs, has_twins)\n",
    "            risks = self.calculate_risks_from_probs(probs, n_ahead)\n",
    "            print(f\"AI: detected twins in following candidate strings: {has_twins}\")\n",
    "            for cand, risk in risks.items():\n",
    "                print(f\"AI: candidate: \\\"{cand}\\\" risk_score:{risk}\")\n",
    "            return min(risks, key=risks.get)[current_position]\n",
    "        \n",
    "        elif current_possibilities:        \n",
    "            return current_possibilities[0][current_position]\n",
    "            \n",
    "        print('AI: No wining option!')\n",
    "        return alphabet[0]\n"
   ]
  },
  {
   "cell_type": "code",
   "execution_count": 8,
   "id": "e9b07756",
   "metadata": {
    "collapsed": false,
    "jupyter": {
     "outputs_hidden": false
    },
    "pycharm": {
     "name": "#%%\n"
    }
   },
   "outputs": [],
   "source": [
    "class Game:\n",
    "    def __init__(self, config):\n",
    "        self.utils = Utils()\n",
    "        self.player1 = Human()\n",
    "        self.player2 = AI(self.utils)\n",
    "        self.config = config\n",
    "        self.game_state = GameState(config)\n",
    "        \n",
    "    def play(self):\n",
    "        while(self.game_state.is_playing()):\n",
    "            self.game_state.set_winner(None)\n",
    "            #self.game_state.set_current_string('abca')\n",
    "            while(self.game_state.get_string_length() < self.config['n']):\n",
    "                print('Player 1:')\n",
    "                self.player1.move(self.game_state)\n",
    "                print('Player 2:')\n",
    "                self.player2.move(self.game_state)\n",
    "                if self.evaluate_string(self.game_state.get_current_string()):\n",
    "                    print(self.game_state.get_current_string())\n",
    "                    self.game_state.set_winner('Player1')\n",
    "                    break\n",
    "            if not self.game_state.get_winner():\n",
    "                print(self.game_state.get_current_string())\n",
    "                self.game_state.set_winner('Player2')\n",
    "            print(f\"{self.game_state.get_winner()} wins!\")\n",
    "            \n",
    "            play_again_user_answer = input(\"Play again? y/n: \")\n",
    "            if play_again_user_answer == \"n\":\n",
    "                self.game_state.is_not_playing()\n",
    "            elif play_again_user_answer == \"y\":\n",
    "                number_of_letters_in_alphabet = GameState.get_number_of_letters_from_user()\n",
    "                max_word_length = GameState.get_max_word_length_from_user()\n",
    "                simple_config = {'m': number_of_letters_in_alphabet, 'n': max_word_length, 'n_steps_ahead': 3, 'sample_rate_per_step': 0.10}\n",
    "                self.restart_game(simple_config)\n",
    "\n",
    "\n",
    "    def restart_game(self, config):\n",
    "        self.utils = Utils()\n",
    "        self.player1 = Human()\n",
    "        self.player2 = AI(self.utils)\n",
    "        self.config = config\n",
    "        self.game_state = GameState(config)\n",
    "\n",
    "    def check_for_twins(self, string):\n",
    "        utils = Utils()\n",
    "        substrings = []\n",
    "        utils.generate_substrings(string, substrings)\n",
    "        for substring in self.utils.deduplicate(substrings):\n",
    "            if utils.check_substring_for_twins(substring):\n",
    "                print(f\"Twins substring: {substring}\")\n",
    "                return True\n",
    "        return False\n",
    "                \n",
    "    def evaluate_string(self, string):\n",
    "        return self.check_for_twins(string)\n",
    "                "
   ]
  },
  {
   "cell_type": "code",
   "execution_count": 9,
   "id": "2f3d5c33",
   "metadata": {
    "collapsed": false,
    "jupyter": {
     "outputs_hidden": false
    },
    "pycharm": {
     "name": "#%%\n"
    }
   },
   "outputs": [
    {
     "name": "stdin",
     "output_type": "stream",
     "text": [
      "How many letters in alphabet:  3\n",
      "How maximal length word should have:  8\n"
     ]
    }
   ],
   "source": [
    "number_of_letters_in_alphabet = GameState.get_number_of_letters_from_user()\n",
    "max_word_length = GameState.get_max_word_length_from_user()\n",
    "simple_config = {'m': number_of_letters_in_alphabet, 'n': max_word_length, 'n_steps_ahead': 3, 'sample_rate_per_step': 0.10}"
   ]
  },
  {
   "cell_type": "code",
   "execution_count": 10,
   "id": "0e781116",
   "metadata": {
    "collapsed": false,
    "jupyter": {
     "outputs_hidden": false
    },
    "pycharm": {
     "name": "#%%\n"
    }
   },
   "outputs": [],
   "source": [
    "game = Game(simple_config)"
   ]
  },
  {
   "cell_type": "code",
   "execution_count": 11,
   "id": "d5814df1",
   "metadata": {
    "collapsed": false,
    "jupyter": {
     "outputs_hidden": false
    },
    "pycharm": {
     "name": "#%%\n"
    }
   },
   "outputs": [
    {
     "name": "stdout",
     "output_type": "stream",
     "text": [
      "Player 1:\n",
      "\n",
      "_\n",
      "0\n"
     ]
    },
    {
     "name": "stdin",
     "output_type": "stream",
     "text": [
      "Choose position:  0\n"
     ]
    },
    {
     "name": "stdout",
     "output_type": "stream",
     "text": [
      "Player 2:\n",
      "AI: detected twins in following candidate strings: []\n",
      "AI: candidate: \"a\" risk_score:2.888888888888889\n",
      "AI: candidate: \"b\" risk_score:2.888888888888889\n",
      "AI: candidate: \"c\" risk_score:2.888888888888889\n",
      "Player 1:\n",
      "a\n",
      "_a_\n",
      "0 1\n"
     ]
    },
    {
     "name": "stdin",
     "output_type": "stream",
     "text": [
      "Choose position:  1\n"
     ]
    },
    {
     "name": "stdout",
     "output_type": "stream",
     "text": [
      "Player 2:\n",
      "AI: detected twins in following candidate strings: ['aa']\n",
      "AI: candidate: \"ab\" risk_score:3.6532179372958296\n",
      "AI: candidate: \"ac\" risk_score:3.651160324127105\n",
      "Player 1:\n",
      "ac\n",
      "_a_c_\n",
      "0 1 2\n"
     ]
    },
    {
     "name": "stdin",
     "output_type": "stream",
     "text": [
      "Choose position:  1\n"
     ]
    },
    {
     "name": "stdout",
     "output_type": "stream",
     "text": [
      "Player 2:\n",
      "AI: detected twins in following candidate strings: ['aac', 'acc']\n",
      "AI: candidate: \"abc\" risk_score:3.980324074074074\n",
      "Player 1:\n",
      "abc\n",
      "_a_b_c_\n",
      "0 1 2 3\n"
     ]
    },
    {
     "name": "stdin",
     "output_type": "stream",
     "text": [
      "Choose position:  1\n"
     ]
    },
    {
     "name": "stdout",
     "output_type": "stream",
     "text": [
      "Player 2:\n",
      "AI: detected twins in following candidate strings: ['aabc', 'abbc']\n",
      "AI: candidate: \"acbc\" risk_score:4.701928923451101\n",
      "Player 1:\n",
      "acbc\n",
      "_a_c_b_c_\n",
      "0 1 2 3 4\n"
     ]
    },
    {
     "name": "stdin",
     "output_type": "stream",
     "text": [
      "Choose position:  1\n"
     ]
    },
    {
     "name": "stdout",
     "output_type": "stream",
     "text": [
      "Player 2:\n",
      "AI: No wining option!\n",
      "Twins substring: aa\n",
      "aacbc\n",
      "Player1 wins!\n"
     ]
    },
    {
     "name": "stdin",
     "output_type": "stream",
     "text": [
      "Play again? y/n:  n\n"
     ]
    }
   ],
   "source": [
    "game.play()"
   ]
  },
  {
   "cell_type": "code",
   "execution_count": null,
   "id": "8cf5e386-72f4-47fd-997a-0038f7413df1",
   "metadata": {},
   "outputs": [],
   "source": []
  }
 ],
 "metadata": {
  "kernelspec": {
   "display_name": "Python 3 (ipykernel)",
   "language": "python",
   "name": "python3"
  },
  "language_info": {
   "codemirror_mode": {
    "name": "ipython",
    "version": 3
   },
   "file_extension": ".py",
   "mimetype": "text/x-python",
   "name": "python",
   "nbconvert_exporter": "python",
   "pygments_lexer": "ipython3",
   "version": "3.7.13"
  }
 },
 "nbformat": 4,
 "nbformat_minor": 5
}
