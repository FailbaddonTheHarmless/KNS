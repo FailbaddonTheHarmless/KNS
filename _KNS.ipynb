{
 "cells": [
  {
   "cell_type": "code",
   "execution_count": 55,
   "id": "82453be5-ba4e-4c69-a2dd-89f2ca290bc2",
   "metadata": {},
   "outputs": [],
   "source": [
    "from abc import ABC, abstractmethod\n",
    "from collections import Counter\n",
    "from itertools import combinations"
   ]
  },
  {
   "cell_type": "code",
   "execution_count": 56,
   "id": "90c04d17-1f45-4834-9a4d-f606c3ede3d4",
   "metadata": {},
   "outputs": [],
   "source": [
    "class Utils:\n",
    "    def check_counts(self, string):\n",
    "        for item, value in Counter(string).items():\n",
    "            if value%2 == 1:\n",
    "                return False\n",
    "        return True\n",
    "\n",
    "    def generate_substrings(self, string, masterlist):\n",
    "        if string not in masterlist:\n",
    "            if self.check_counts(string):\n",
    "                masterlist.add(string)\n",
    "        if len(string) < 3:\n",
    "            return\n",
    "        else:\n",
    "            self.generate_substrings(string[1:], masterlist)\n",
    "            self.generate_substrings(string[:-1], masterlist)\n",
    "\n",
    "    def evaluate_combination(self, a, b, substring):\n",
    "        for i in range(len(a)):\n",
    "            if substring[a[i]] != substring[b[i]]:\n",
    "                return False\n",
    "        return True\n",
    "\n",
    "    def check_substring_for_twins(self, substring):\n",
    "        look_further = False\n",
    "        length = len(substring)\n",
    "        indices = set(range(length))\n",
    "\n",
    "        for a in combinations(indices, int(length/2)):\n",
    "            b = tuple(indices - set(a))\n",
    "            if self.evaluate_combination(a, b, substring):\n",
    "                print(f\"Found twins in {substring} with indices{a} and {b}\")\n",
    "                return True\n",
    "        return False"
   ]
  },
  {
   "cell_type": "code",
   "execution_count": 57,
   "id": "70f6c1af-640b-48fe-a586-ec8106153635",
   "metadata": {},
   "outputs": [],
   "source": [
    "class GameState:\n",
    "    \n",
    "    def __init__(self, config):\n",
    "        self.current_string = \"\"\n",
    "        self.current_position = 0\n",
    "        self.alphabet = config['alphabet']\n",
    "        self.winner = None\n",
    "        self.playing = True\n",
    "        \n",
    "    def get_current_string(self):\n",
    "        return self.current_string\n",
    "    \n",
    "    def get_alphabet(self):\n",
    "        return self.alphabet\n",
    "    \n",
    "    def get_current_position(self):\n",
    "        return self.current_position\n",
    "    \n",
    "    def get_winner(self):\n",
    "        return self.winner\n",
    "    \n",
    "    def get_string_length(self):\n",
    "        return len(self.current_string)\n",
    "    \n",
    "    def set_current_position(self, position):\n",
    "        self.current_position = position\n",
    "        \n",
    "    def set_winner(self, player):\n",
    "        self.winner = player\n",
    "        \n",
    "    def set_current_string(self, string):\n",
    "        self.current_string = string\n",
    "    \n",
    "    def is_playing(self):\n",
    "        return self.playing\n",
    "    \n",
    "    def is_not_playing(self):\n",
    "        self.playing = False\n",
    "    \n",
    "    def update_current_string(self, char):\n",
    "        self.current_string = self.current_string[:self.current_position] + char + self.current_string[self.current_position:]"
   ]
  },
  {
   "cell_type": "code",
   "execution_count": 58,
   "id": "d2534f53-768e-46c5-98ca-46fbba7dc693",
   "metadata": {},
   "outputs": [],
   "source": [
    "class Player(ABC):\n",
    "    \n",
    "    @abstractmethod\n",
    "    def move(self):\n",
    "        pass\n",
    "    \n",
    "class Human(Player):\n",
    "    def move(self, game_state):\n",
    "        self.print_possible_positions(game_state)\n",
    "\n",
    "        position = None\n",
    "        while position == None:\n",
    "            try:\n",
    "                position = int(input(\"Choose position: \"))\n",
    "                if not self.check_validity(position, game_state):\n",
    "                    position = None\n",
    "                    print(\"Invalid position!\")\n",
    "            except:\n",
    "                position = None\n",
    "                print(\"Invalid input!\")\n",
    "            \n",
    "        game_state.set_current_position(position)\n",
    "        \n",
    "    def check_validity(self, position, game_state):\n",
    "        current_string = game_state.get_current_string()\n",
    "        return position >= 0 and position <= len(current_string)\n",
    "    \n",
    "    def print_possible_positions(self, game_state):\n",
    "        current_string = game_state.get_current_string()\n",
    "        print(current_string)\n",
    "        print_string = \"_\"\n",
    "        for letter in current_string:\n",
    "            print_string += letter\n",
    "            print_string += \"_\"\n",
    "        \n",
    "        number_string = \"\"\n",
    "        num = 0\n",
    "        for character in print_string:\n",
    "            if character == \"_\":\n",
    "                number_string += str(num)\n",
    "                num += 1\n",
    "            else:\n",
    "                number_string += \" \"\n",
    "        print(f\"{print_string}\\n{number_string}\")\n",
    "        \n",
    "class AI(Player):\n",
    "    def move(self, game_state):\n",
    "        alphabet = game_state.get_alphabet()\n",
    "        current_string = game_state.get_current_string()\n",
    "        current_position = game_state.get_current_position()\n",
    "        \n",
    "        char = self.find_best_letter(current_string, current_position, alphabet)\n",
    "        game_state.update_current_string(char)\n",
    "        \n",
    "    def evaluate_single_string(self, string):\n",
    "        return self.check_for_twins(string)\n",
    "    \n",
    "    def check_for_twins(self, string):\n",
    "        utils = Utils()\n",
    "        substrings = set()\n",
    "        utils.generate_substrings(string, substrings)\n",
    "        for substring in substrings:\n",
    "            if utils.check_substring_for_twins(substring):\n",
    "                return True\n",
    "        return False\n",
    "    \n",
    "    def generate_strings(self, current_string, current_position, alhpabet):\n",
    "        beggining = current_string[:current_position]\n",
    "        end = current_string[current_position:]\n",
    "        strings = [f\"{beggining}{char}{end}\" for char in alhpabet]\n",
    "        \n",
    "        return strings\n",
    "    \n",
    "    def find_best_letter(self, current_string, current_position, alphabet):\n",
    "        candidates = self.generate_strings(current_string, current_position, alphabet)\n",
    "        \n",
    "        for candidate in candidates:\n",
    "            #print(candidate)\n",
    "            if not self.evaluate_single_string(candidate):\n",
    "                return candidate[current_position]\n",
    "        print('No good options')\n",
    "        return alphabet[0]\n",
    "\n",
    "    "
   ]
  },
  {
   "cell_type": "code",
   "execution_count": 59,
   "id": "a4e04308-43b4-4ef4-8c71-65efcabf735e",
   "metadata": {},
   "outputs": [],
   "source": [
    "class Game:\n",
    "    def __init__(self, config):\n",
    "        self.player1 = Human()\n",
    "        self.player2 = AI()\n",
    "        self.config = config\n",
    "        self.game_state = GameState(config)\n",
    "        \n",
    "    def play(self):\n",
    "        while(self.game_state.is_playing()):\n",
    "            self.game_state.set_winner(None)\n",
    "            #self.game_state.set_current_string('abca')\n",
    "            while(self.game_state.get_string_length() < self.config['n']):\n",
    "                print('Player 1:')\n",
    "                self.player1.move(self.game_state)\n",
    "                print('Player 2:')\n",
    "                self.player2.move(self.game_state)\n",
    "                if self.evaluate_string(self.game_state.get_current_string()):\n",
    "                    self.game_state.set_winner('Player1')\n",
    "                    break\n",
    "            if not self.game_state.get_winner():\n",
    "                self.game_state.set_winner('Player2')\n",
    "            print(f\"{self.game_state.get_winner()} wins!\")\n",
    "            \n",
    "            if input(\"Play again? y/n: \") == \"n\":\n",
    "                self.game_state.is_not_playing()\n",
    "                \n",
    "    def check_for_twins(self, string):\n",
    "        utils = Utils()\n",
    "        substrings = set()\n",
    "        utils.generate_substrings(string, substrings)\n",
    "        for substring in substrings:\n",
    "            if utils.check_substring_for_twins(substring):\n",
    "                return True\n",
    "        return False\n",
    "                \n",
    "    def evaluate_string(self, string):\n",
    "        return self.check_for_twins(string)\n",
    "                "
   ]
  },
  {
   "cell_type": "code",
   "execution_count": 60,
   "id": "8e801342-db9c-4d9d-8892-85353e22fca6",
   "metadata": {},
   "outputs": [],
   "source": [
    "simple_config = {'n': 5, 'alphabet': ['a','b','c','d']}"
   ]
  },
  {
   "cell_type": "code",
   "execution_count": 61,
   "id": "4bf1ff2f-e88c-45c8-9abc-bc89333b78a2",
   "metadata": {},
   "outputs": [],
   "source": [
    "gs = GameState(simple_config)"
   ]
  },
  {
   "cell_type": "code",
   "execution_count": 62,
   "id": "cf952981-6536-4229-a9ba-11c0ee55ff38",
   "metadata": {},
   "outputs": [],
   "source": [
    "game = Game(simple_config)"
   ]
  },
  {
   "cell_type": "code",
   "execution_count": 63,
   "id": "66cd86cd-c6fb-426b-9187-e86fa2a76f27",
   "metadata": {},
   "outputs": [
    {
     "name": "stdout",
     "output_type": "stream",
     "text": [
      "Player 1:\n",
      "\n",
      "_\n",
      "0\n"
     ]
    },
    {
     "name": "stdin",
     "output_type": "stream",
     "text": [
      "Choose position:  0\n"
     ]
    },
    {
     "name": "stdout",
     "output_type": "stream",
     "text": [
      "Player 2:\n",
      "Player 1:\n",
      "a\n",
      "_a_\n",
      "0 1\n"
     ]
    },
    {
     "name": "stdin",
     "output_type": "stream",
     "text": [
      "Choose position:  1\n"
     ]
    },
    {
     "name": "stdout",
     "output_type": "stream",
     "text": [
      "Player 2:\n",
      "Found twins in aa with indices(0,) and (1,)\n",
      "Player 1:\n",
      "ab\n",
      "_a_b_\n",
      "0 1 2\n"
     ]
    },
    {
     "name": "stdin",
     "output_type": "stream",
     "text": [
      "Choose position:  2\n"
     ]
    },
    {
     "name": "stdout",
     "output_type": "stream",
     "text": [
      "Player 2:\n",
      "Player 1:\n",
      "aba\n",
      "_a_b_a_\n",
      "0 1 2 3\n"
     ]
    },
    {
     "name": "stdin",
     "output_type": "stream",
     "text": [
      "Choose position:  3\n"
     ]
    },
    {
     "name": "stdout",
     "output_type": "stream",
     "text": [
      "Player 2:\n",
      "Found twins in aa with indices(0,) and (1,)\n",
      "Found twins in abab with indices(0, 1) and (2, 3)\n",
      "Player 1:\n",
      "abac\n",
      "_a_b_a_c_\n",
      "0 1 2 3 4\n"
     ]
    },
    {
     "name": "stdin",
     "output_type": "stream",
     "text": [
      "Choose position:  4\n"
     ]
    },
    {
     "name": "stdout",
     "output_type": "stream",
     "text": [
      "Player 2:\n",
      "Player2 wins!\n"
     ]
    },
    {
     "name": "stdin",
     "output_type": "stream",
     "text": [
      "Play again? y/n:  n\n"
     ]
    }
   ],
   "source": [
    "game.play()"
   ]
  },
  {
   "cell_type": "code",
   "execution_count": null,
   "id": "83942938-edc3-4528-825a-451fa6b3bdf0",
   "metadata": {},
   "outputs": [],
   "source": []
  }
 ],
 "metadata": {
  "kernelspec": {
   "display_name": "Python 3 (ipykernel)",
   "language": "python",
   "name": "python3"
  },
  "language_info": {
   "codemirror_mode": {
    "name": "ipython",
    "version": 3
   },
   "file_extension": ".py",
   "mimetype": "text/x-python",
   "name": "python",
   "nbconvert_exporter": "python",
   "pygments_lexer": "ipython3",
   "version": "3.7.13"
  }
 },
 "nbformat": 4,
 "nbformat_minor": 5
}
