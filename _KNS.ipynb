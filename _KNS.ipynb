{
 "cells": [
  {
   "cell_type": "code",
   "execution_count": 1,
   "id": "82453be5-ba4e-4c69-a2dd-89f2ca290bc2",
   "metadata": {},
   "outputs": [],
   "source": [
    "from abc import ABC, abstractmethod"
   ]
  },
  {
   "cell_type": "code",
   "execution_count": null,
   "id": "90c04d17-1f45-4834-9a4d-f606c3ede3d4",
   "metadata": {},
   "outputs": [],
   "source": []
  },
  {
   "cell_type": "code",
   "execution_count": 9,
   "id": "70f6c1af-640b-48fe-a586-ec8106153635",
   "metadata": {},
   "outputs": [],
   "source": [
    "class GameState:\n",
    "    \n",
    "    def __init__(self, config):\n",
    "        self.current_string = \"\"\n",
    "        self.current_position = 0\n",
    "        self.alphabet = config['alphabet']\n",
    "        self.winner = None\n",
    "        self.playing = True\n",
    "        \n",
    "    def get_current_string(self):\n",
    "        return self.current_string\n",
    "    \n",
    "    def get_alphabet(self):\n",
    "        return self.alphabet\n",
    "    \n",
    "    def get_current_position(self):\n",
    "        return self.current_position\n",
    "    \n",
    "    def get_winner(self):\n",
    "        return self.winner\n",
    "    \n",
    "    def get_string_length(self):\n",
    "        return len(self.current_string)\n",
    "    \n",
    "    def set_current_position(self, position):\n",
    "        self.current_position = position\n",
    "        \n",
    "    def set_winner(self, player):\n",
    "        self.winner = player\n",
    "        \n",
    "    def set_current_string(self, string):\n",
    "        self.current_string = string\n",
    "    \n",
    "    def is_playing(self):\n",
    "        return self.playing\n",
    "    \n",
    "    def is_not_playing(self):\n",
    "        self.playing = False\n",
    "    \n",
    "    def update_current_string(self, char):\n",
    "        self.current_string = self.current_string[:self.current_position] + char + self.current_string[self.current_position:]"
   ]
  },
  {
   "cell_type": "code",
   "execution_count": 10,
   "id": "d2534f53-768e-46c5-98ca-46fbba7dc693",
   "metadata": {},
   "outputs": [],
   "source": [
    "class Player(ABC):\n",
    "    \n",
    "    @abstractmethod\n",
    "    def move(self):\n",
    "        pass\n",
    "    \n",
    "class Human(Player):\n",
    "    def move(self, game_state):\n",
    "        self.print_possible_positions(game_state)\n",
    "        chosen = False\n",
    "        \n",
    "        while not chosen:\n",
    "            position = int(input(\"Choose position: \"))\n",
    "            chosen = self.check_validity(position, game_state)\n",
    "            if not chosen:\n",
    "                print(\"Invalid position!\")\n",
    "        game_state.set_current_position(position)\n",
    "        \n",
    "    def check_validity(self, position, game_state):\n",
    "        current_string = game_state.get_current_string()\n",
    "        return position >= 0 and position <= len(current_string)\n",
    "    \n",
    "    def print_possible_positions(self, game_state):\n",
    "        current_string = game_state.get_current_string()\n",
    "        print(current_string)\n",
    "        print_string = \"_\"\n",
    "        for letter in current_string:\n",
    "            print_string += letter\n",
    "            print_string += \"_\"\n",
    "        \n",
    "        number_string = \"\"\n",
    "        num = 0\n",
    "        for character in print_string:\n",
    "            if character == \"_\":\n",
    "                number_string += str(num)\n",
    "                num += 1\n",
    "            else:\n",
    "                number_string += \" \"\n",
    "        print(f\"{print_string}\\n{number_string}\")\n",
    "        \n",
    "class AI(Player):\n",
    "    def move(self, game_state):\n",
    "        alphabet = game_state.get_alphabet()\n",
    "        current_string = game_state.get_current_string()\n",
    "        current_position = game_state.get_current_position()\n",
    "        \n",
    "        char = self.find_best_letter(current_string, current_position, alphabet)\n",
    "        game_state.update_current_string(char)\n",
    "        \n",
    "    def evaluate_single_string(self, string):\n",
    "        return self.check_for_twins(string)\n",
    "    \n",
    "    def check_for_twins(self, string):\n",
    "        return True\n",
    "    \n",
    "    def generate_strings(self, current_string, current_position, alhpabet):\n",
    "        beggining = current_string[:current_position]\n",
    "        end = current_string[current_position]\n",
    "        strings = [f\"{beggining}{char}{end}\" for char in alhpabet]\n",
    "        \n",
    "        return strings\n",
    "    \n",
    "    def find_best_letter(self, current_string, current_position, alphabet):\n",
    "        candidates = self.generate_strings(current_string, current_position, alphabet)\n",
    "        \n",
    "        for candidate in candidates:\n",
    "            print(candidate)\n",
    "            if not self.evaluate_single_string(candidate):\n",
    "                return candidate[current_position]\n",
    "        print('No good options')\n",
    "        return alphabet[0]\n",
    "\n",
    "    "
   ]
  },
  {
   "cell_type": "code",
   "execution_count": 11,
   "id": "a4e04308-43b4-4ef4-8c71-65efcabf735e",
   "metadata": {},
   "outputs": [],
   "source": [
    "class Game:\n",
    "    def __init__(self, config):\n",
    "        self.player1 = Human()\n",
    "        self.player2 = AI()\n",
    "        self.config = config\n",
    "        self.game_state = GameState(config)\n",
    "        \n",
    "    def play(self):\n",
    "        while(self.game_state.is_playing()):\n",
    "            self.game_state.set_winner(None)\n",
    "            self.game_state.set_current_string('abca')\n",
    "            while(self.game_state.get_string_length() < self.config['n']):\n",
    "                self.player1.move(self.game_state)\n",
    "                self.player2.move(self.game_state)\n",
    "                if self.evaluate_string(self.game_state.get_current_string):\n",
    "                    self.game_state.set_winner('Player1')\n",
    "                    break\n",
    "            if not self.game_state.get_winner():\n",
    "                self.game_state.set_winner('Player2')\n",
    "            print(f\"{self.game_state.get_winner()} wins!\")\n",
    "            \n",
    "            if input(\"Play again? y/n: \") == \"n\":\n",
    "                self.game_state.is_not_playing()\n",
    "                \n",
    "    def check_for_twins(self, string):\n",
    "        return True\n",
    "                \n",
    "    def evaluate_string(self, string):\n",
    "        return self.check_for_twins(string)\n",
    "                "
   ]
  },
  {
   "cell_type": "code",
   "execution_count": 12,
   "id": "8e801342-db9c-4d9d-8892-85353e22fca6",
   "metadata": {},
   "outputs": [],
   "source": [
    "simple_config = {'n': 5, 'alphabet': ['a','b','c','d']}"
   ]
  },
  {
   "cell_type": "code",
   "execution_count": 13,
   "id": "4bf1ff2f-e88c-45c8-9abc-bc89333b78a2",
   "metadata": {},
   "outputs": [],
   "source": [
    "gs = GameState(simple_config)"
   ]
  },
  {
   "cell_type": "code",
   "execution_count": 14,
   "id": "cf952981-6536-4229-a9ba-11c0ee55ff38",
   "metadata": {},
   "outputs": [],
   "source": [
    "game = Game(simple_config)"
   ]
  },
  {
   "cell_type": "code",
   "execution_count": 15,
   "id": "66cd86cd-c6fb-426b-9187-e86fa2a76f27",
   "metadata": {},
   "outputs": [
    {
     "name": "stdout",
     "output_type": "stream",
     "text": [
      "abca\n",
      "_a_b_c_a_\n",
      "0 1 2 3 4\n"
     ]
    },
    {
     "name": "stdin",
     "output_type": "stream",
     "text": [
      "Choose position:  3\n"
     ]
    },
    {
     "name": "stdout",
     "output_type": "stream",
     "text": [
      "abcaa\n",
      "abcba\n",
      "abcca\n",
      "abcda\n",
      "No good options\n",
      "Player1 wins!\n"
     ]
    },
    {
     "name": "stdin",
     "output_type": "stream",
     "text": [
      "Play again? y/n:  y\n"
     ]
    },
    {
     "name": "stdout",
     "output_type": "stream",
     "text": [
      "abca\n",
      "_a_b_c_a_\n",
      "0 1 2 3 4\n"
     ]
    },
    {
     "name": "stdin",
     "output_type": "stream",
     "text": [
      "Choose position:  2\n"
     ]
    },
    {
     "name": "stdout",
     "output_type": "stream",
     "text": [
      "abac\n",
      "abbc\n",
      "abcc\n",
      "abdc\n",
      "No good options\n",
      "Player1 wins!\n"
     ]
    },
    {
     "name": "stdin",
     "output_type": "stream",
     "text": [
      "Play again? y/n:  n\n"
     ]
    }
   ],
   "source": [
    "game.play()"
   ]
  },
  {
   "cell_type": "code",
   "execution_count": null,
   "id": "58aa871f-44c4-48ca-8f5b-74f536c900ae",
   "metadata": {},
   "outputs": [],
   "source": []
  }
 ],
 "metadata": {
  "kernelspec": {
   "display_name": "Python 3 (ipykernel)",
   "language": "python",
   "name": "python3"
  },
  "language_info": {
   "codemirror_mode": {
    "name": "ipython",
    "version": 3
   },
   "file_extension": ".py",
   "mimetype": "text/x-python",
   "name": "python",
   "nbconvert_exporter": "python",
   "pygments_lexer": "ipython3",
   "version": "3.7.13"
  }
 },
 "nbformat": 4,
 "nbformat_minor": 5
}
