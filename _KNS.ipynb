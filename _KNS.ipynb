{
 "cells": [
  {
   "cell_type": "code",
   "execution_count": null,
   "outputs": [],
   "source": [
    "from abc import ABC, abstractmethod\n",
    "from collections import Counter\n",
    "from itertools import combinations\n",
    "import random"
   ],
   "metadata": {
    "collapsed": false,
    "pycharm": {
     "name": "#%%\n"
    }
   }
  },
  {
   "cell_type": "code",
   "execution_count": null,
   "outputs": [],
   "source": [
    "class Utils:\n",
    "    def check_counts(self, string):\n",
    "        for item, value in Counter(string).items():\n",
    "            if value%2 == 1:\n",
    "                return False\n",
    "        return True\n",
    "\n",
    "    def generate_substrings(self, string, masterlist):\n",
    "        if string not in masterlist:\n",
    "            if self.check_counts(string):\n",
    "                masterlist.append(string)\n",
    "        if len(string) < 2:\n",
    "            return\n",
    "        else:\n",
    "            self.generate_substrings(string[1:], masterlist)\n",
    "            self.generate_substrings(string[:-1], masterlist)\n",
    "\n",
    "    def evaluate_combination(self, a, b, substring):\n",
    "        for i in range(len(a)):\n",
    "            if substring[a[i]] != substring[b[i]]:\n",
    "                return False\n",
    "        return True\n",
    "\n",
    "    def check_substring_for_twins(self, substring):\n",
    "        length = len(substring)\n",
    "        indices = set(range(length))\n",
    "\n",
    "        for a in combinations(indices, int(length/2)):\n",
    "            b = tuple(indices - set(a))\n",
    "            if self.evaluate_combination(a, b, substring):\n",
    "                #print(f\"Found twins in {substring} with indices{a} and {b}\")\n",
    "                return [substring, a, b]\n",
    "        return None\n",
    "    \n",
    "    def subsample(self, iterable, rate):\n",
    "        if rate > 0.9:\n",
    "            rate = 0.9\n",
    "        return random.sample(iterable, k = int((1-rate)*len(iterable)))\n",
    "    \n",
    "    def generate_possible_positions(self, word):\n",
    "        return [x for x in range(len(word)+1)]\n",
    "    \n",
    "    def deduplicate(self, iterable):\n",
    "        d = {}\n",
    "        for x in iterable:\n",
    "            d[x] = None\n",
    "        return list(d.keys())\n",
    "    "
   ],
   "metadata": {
    "collapsed": false,
    "pycharm": {
     "name": "#%%\n"
    }
   }
  },
  {
   "cell_type": "code",
   "execution_count": null,
   "outputs": [],
   "source": [
    "class WordLookup:\n",
    "    def __init__(self):\n",
    "        self.lookup = {}\n",
    "        \n",
    "    def was_evaluated(self, word):\n",
    "        return word in self.lookup.keys()\n",
    "    \n",
    "    def add_evaluated_and_combinations(self, string, twins):\n",
    "        start = string.find(twins)\n",
    "        end = start + len(twins)\n",
    "        for i in range(0, start + 1):\n",
    "            for j in range(end, len(string)):\n",
    "                self.add_evaluated(string[i:j+1], True)\n",
    "    \n",
    "    def add_evaluated(self, word, result):\n",
    "        self.lookup[word] = result\n",
    "        \n",
    "    def has_twins(self, word):\n",
    "        if not self.was_evaluated(word):\n",
    "            raise IndexError\n",
    "        else:\n",
    "            return self.lookup[word]"
   ],
   "metadata": {
    "collapsed": false,
    "pycharm": {
     "name": "#%%\n"
    }
   }
  },
  {
   "cell_type": "code",
   "execution_count": null,
   "outputs": [],
   "source": [
    "class GameState:\n",
    "    \n",
    "    def __init__(self, config):\n",
    "        self.current_string = \"\"\n",
    "        self.current_position = 0\n",
    "        self.alphabet = config['alphabet']\n",
    "        self.winner = None\n",
    "        self.playing = True\n",
    "        self.lookup  = WordLookup()\n",
    "        self.n_ahead = config['n_steps_ahead']\n",
    "        self.sample_rate_per_step['sample_rate_per_step']\n",
    "        \n",
    "        \n",
    "    def get_current_string(self):\n",
    "        return self.current_string\n",
    "    \n",
    "    def get_alphabet(self):\n",
    "        return self.alphabet\n",
    "    \n",
    "    def get_current_position(self):\n",
    "        return self.current_position\n",
    "    \n",
    "    def get_winner(self):\n",
    "        return self.winner\n",
    "    \n",
    "    def get_string_length(self):\n",
    "        return len(self.current_string)\n",
    "    \n",
    "    def set_current_position(self, position):\n",
    "        self.current_position = position\n",
    "        \n",
    "    def set_winner(self, player):\n",
    "        self.winner = player\n",
    "        \n",
    "    def set_current_string(self, string):\n",
    "        self.current_string = string\n",
    "    \n",
    "    def is_playing(self):\n",
    "        return self.playing\n",
    "    \n",
    "    def is_not_playing(self):\n",
    "        self.playing = False\n",
    "    \n",
    "    def update_current_string(self, char):\n",
    "        self.current_string = self.current_string[:self.current_position] + char + self.current_string[self.current_position:]"
   ],
   "metadata": {
    "collapsed": false,
    "pycharm": {
     "name": "#%%\n"
    }
   }
  },
  {
   "cell_type": "code",
   "execution_count": null,
   "outputs": [],
   "source": [
    "class Player(ABC):\n",
    "    \n",
    "    @abstractmethod\n",
    "    def move(self):\n",
    "        pass"
   ],
   "metadata": {
    "collapsed": false,
    "pycharm": {
     "name": "#%%\n"
    }
   }
  },
  {
   "cell_type": "code",
   "execution_count": null,
   "outputs": [],
   "source": [
    "class Human(Player):\n",
    "    def move(self, game_state):\n",
    "        self.print_possible_positions(game_state)\n",
    "\n",
    "        position = None\n",
    "        while position == None:\n",
    "            try:\n",
    "                position = int(input(\"Choose position: \"))\n",
    "                if not self.check_validity(position, game_state):\n",
    "                    position = None\n",
    "                    print(\"Invalid position!\")\n",
    "            except:\n",
    "                position = None\n",
    "                print(\"Invalid input!\")\n",
    "            \n",
    "        game_state.set_current_position(position)\n",
    "        \n",
    "    def check_validity(self, position, game_state):\n",
    "        current_string = game_state.get_current_string()\n",
    "        return position >= 0 and position <= len(current_string)\n",
    "    \n",
    "    def print_possible_positions(self, game_state):\n",
    "        current_string = game_state.get_current_string()\n",
    "        print_string = \"_\"\n",
    "        for letter in current_string:\n",
    "            print_string += letter\n",
    "            print_string += \"_\"\n",
    "        \n",
    "        number_string = \"\"\n",
    "        num = 0\n",
    "        for character in print_string:\n",
    "            if character == \"_\":\n",
    "                number_string += str(num)\n",
    "                num += 1\n",
    "            else:\n",
    "                number_string += \" \"\n",
    "        print(f\"{print_string}\\n{number_string}\")"
   ],
   "metadata": {
    "collapsed": false,
    "pycharm": {
     "name": "#%%\n"
    }
   }
  },
  {
   "cell_type": "code",
   "execution_count": null,
   "outputs": [],
   "source": [
    "class AI(Player):\n",
    "    def __init__(self, utils):\n",
    "        self.utils = utils\n",
    "        \n",
    "    def move(self, game_state):\n",
    "        alphabet = game_state.get_alphabet()\n",
    "        current_string = game_state.get_current_string()\n",
    "        current_position = game_state.get_current_position()\n",
    "        \n",
    "        char = self.find_best_letter(current_string, current_position, alphabet, game_state)\n",
    "        game_state.update_current_string(char)\n",
    "        \n",
    "    def evaluate_single_string(self, string, game_state):\n",
    "        return self.check_for_twins(string, game_state)\n",
    "    \n",
    "    def check_for_twins(self, string, game_state):\n",
    "        if game_state.lookup.was_evaluated(string):\n",
    "            return game_state.lookup.has_twins(string)\n",
    "        else:\n",
    "            substrings = []\n",
    "            self.utils.generate_substrings(string, substrings)\n",
    "            for substring in self.utils.deduplicate(reversed(substrings)):\n",
    "                if game_state.lookup.was_evaluated(substring):\n",
    "                    if game_state.lookup.has_twins(substring):\n",
    "                        return True\n",
    "                twins_check = self.utils.check_substring_for_twins(substring)\n",
    "                if twins_check:\n",
    "                    pos1 = twins_check[1]\n",
    "                    pos2 = twins_check[2]\n",
    "                    if len(pos1) > 1:\n",
    "                        twins = substring[pos1[0]:pos2[1]+1]\n",
    "                    else:\n",
    "                        twins = substring[pos1[0]:pos2[0]+1]\n",
    "                    \n",
    "                    game_state.lookup.add_evaluated_and_combinations(string, twins)\n",
    "                    return True\n",
    "                else:\n",
    "                    game_state.lookup.add_evaluated(substring, False)\n",
    "            return False\n",
    "    \n",
    "    def generate_strings(self, current_string, current_position, alhpabet):\n",
    "        beggining = current_string[:current_position]\n",
    "        end = current_string[current_position:]\n",
    "        strings = [f\"{beggining}{char}{end}\" for char in alhpabet]\n",
    "        \n",
    "        return strings\n",
    "    \n",
    "\n",
    "    def generate_strings_for_lookahead(self, candidate, alphabet, n_ahead):\n",
    "        to_evaluate_per_level = {}\n",
    "        candidates = [candidate]\n",
    "        for level in range(0, n_ahead):\n",
    "            to_evaluate = []\n",
    "            for candidate in candidates:\n",
    "                for pos in self.utils.generate_possible_positions(candidate):\n",
    "                    strings = self.generate_strings(candidate, pos, alphabet)\n",
    "                    to_evaluate.extend(strings)\n",
    "            candidates = to_evaluate\n",
    "            to_evaluate_per_level[level] = to_evaluate\n",
    "        \n",
    "        return to_evaluate_per_level\n",
    "    \n",
    "    def evaluate_sample(self, sample, game_state):\n",
    "        twins = 0\n",
    "        not_twins = 0\n",
    "        \n",
    "        for candidate in sample:\n",
    "            if game_state.lookup.was_evaluated(candidate):\n",
    "                if game_state.lookup.has_twins(candidate):\n",
    "                    twins += 1\n",
    "                else:\n",
    "                    not_twins += 1\n",
    "            else:\n",
    "                check_result = self.check_for_twins(candidate, game_state)\n",
    "                if check_result:\n",
    "                    game_state.lookup.add_evaluated(candidate, True)\n",
    "                    twins += 1\n",
    "                else:\n",
    "                    game_state.lookup.add_evaluated(candidate, False)\n",
    "                    not_twins += 1\n",
    "        return twins/len(sample)\n",
    "    \n",
    "    def calculate_prob_of_twins(self, candidate, game_state, n_ahead, alphabet, sample_rate_per_step = 0.10):\n",
    "        sample_rate_per_step = game_state.sample_rate_per_step\n",
    "        lookahead_candidates = self.generate_strings_for_lookahead(candidate, alphabet, n_ahead)\n",
    "        \n",
    "        probs_per_level = {}\n",
    "        for level, candidates in lookahead_candidates.items():\n",
    "            if level > 0:\n",
    "                sample = self.utils.subsample(candidates, sample_rate_per_step * (len(candidate)-1))\n",
    "            else:\n",
    "                sample = candidates\n",
    "            probs = self.evaluate_sample(sample, game_state)\n",
    "            probs_per_level[level] = probs\n",
    "            \n",
    "        return probs_per_level\n",
    "            \n",
    "    def calculate_risks_from_probs(self, probs, n_ahead):\n",
    "        risks = {}\n",
    "        for candidate, probabilities in probs.items():\n",
    "            risk = []\n",
    "            for level, prob in probabilities.items():\n",
    "                risk.append(prob * (n_ahead - level))\n",
    "            risks[candidate] = sum(risk)\n",
    "            \n",
    "        return risks\n",
    "    \n",
    "    def find_best_letter(self, current_string, current_position, alphabet, game_state, n_ahead = 3):\n",
    "        n_ahead = game_state.n_ahead\n",
    "        candidates = self.generate_strings(current_string, current_position, alphabet)\n",
    "        \n",
    "        current_possibilities = []\n",
    "        has_twins = []\n",
    "        for candidate in candidates:\n",
    "            #print(candidate)\n",
    "            if not self.evaluate_single_string(candidate, game_state):\n",
    "                current_possibilities.append(candidate)\n",
    "            else:\n",
    "                has_twins.append(candidate)\n",
    "        \n",
    "        if n_ahead and current_possibilities:\n",
    "            probs = {}\n",
    "            for candidate in current_possibilities:\n",
    "                probs[candidate] = self.calculate_prob_of_twins(candidate, game_state, n_ahead, alphabet)\n",
    "            #print(probs, has_twins)\n",
    "            risks = self.calculate_risks_from_probs(probs, n_ahead)\n",
    "            print(f\"AI: detected twins in following candidate strings: {has_twins}\")\n",
    "            for cand, risk in risks.items():\n",
    "                print(f\"AI: candidate: \\\"{cand}\\\" risk_score:{risk}\")\n",
    "            return min(risks, key=risks.get)[current_position]\n",
    "        \n",
    "        elif current_possibilities:        \n",
    "            return current_possibilities[0][current_position]\n",
    "            \n",
    "        print('AI: No wining option!')\n",
    "        return alphabet[0]\n",
    "\n",
    "    "
   ],
   "metadata": {
    "collapsed": false,
    "pycharm": {
     "name": "#%%\n"
    }
   }
  },
  {
   "cell_type": "code",
   "execution_count": null,
   "outputs": [],
   "source": [
    "class Game:\n",
    "    def __init__(self, config):\n",
    "        self.utils = Utils()\n",
    "        self.player1 = Human()\n",
    "        self.player2 = AI(self.utils)\n",
    "        self.config = config\n",
    "        self.game_state = GameState(config)\n",
    "        \n",
    "    def play(self):\n",
    "        while(self.game_state.is_playing()):\n",
    "            self.game_state.set_winner(None)\n",
    "            #self.game_state.set_current_string('abca')\n",
    "            while(self.game_state.get_string_length() < self.config['n']):\n",
    "                print('Player 1:')\n",
    "                self.player1.move(self.game_state)\n",
    "                print('Player 2:')\n",
    "                self.player2.move(self.game_state)\n",
    "                if self.evaluate_string(self.game_state.get_current_string()):\n",
    "                    self.game_state.set_winner('Player1')\n",
    "                    break\n",
    "            if not self.game_state.get_winner():\n",
    "                self.game_state.set_winner('Player2')\n",
    "            print(f\"{self.game_state.get_winner()} wins!\")\n",
    "            \n",
    "            if input(\"Play again? y/n: \") == \"n\":\n",
    "                self.game_state.is_not_playing()\n",
    "                \n",
    "    def check_for_twins(self, string):\n",
    "        substrings = []\n",
    "        self.utils.generate_substrings(string, substrings)\n",
    "        for substring in set(substrings):\n",
    "            if self.utils.check_substring_for_twins(substring):\n",
    "                return True\n",
    "        return False\n",
    "                \n",
    "    def evaluate_string(self, string):\n",
    "        return self.check_for_twins(string)\n",
    "                "
   ],
   "metadata": {
    "collapsed": false,
    "pycharm": {
     "name": "#%%\n"
    }
   }
  },
  {
   "cell_type": "code",
   "execution_count": null,
   "outputs": [],
   "source": [
    "simple_config = {'n': 7, 'alphabet': ['a','b','c','d'], n_steps_ahead = 3, sample_rate_per_step = 0.10}"
   ],
   "metadata": {
    "collapsed": false,
    "pycharm": {
     "name": "#%%\n"
    }
   }
  },
  {
   "cell_type": "code",
   "execution_count": null,
   "outputs": [],
   "source": [
    "gs = GameState(simple_config)"
   ],
   "metadata": {
    "collapsed": false,
    "pycharm": {
     "name": "#%%\n"
    }
   }
  },
  {
   "cell_type": "code",
   "execution_count": null,
   "outputs": [],
   "source": [
    "game = Game(simple_config)"
   ],
   "metadata": {
    "collapsed": false,
    "pycharm": {
     "name": "#%%\n"
    }
   }
  },
  {
   "cell_type": "code",
   "execution_count": null,
   "outputs": [],
   "source": [
    "game.play()"
   ],
   "metadata": {
    "collapsed": false,
    "pycharm": {
     "name": "#%%\n"
    }
   }
  },
  {
   "cell_type": "code",
   "execution_count": null,
   "outputs": [],
   "source": [],
   "metadata": {
    "collapsed": false,
    "pycharm": {
     "name": "#%%\n"
    }
   }
  },
  {
   "cell_type": "code",
   "execution_count": 11,
   "id": "8e801342-db9c-4d9d-8892-85353e22fca6",
   "metadata": {},
   "outputs": [
    {
     "ename": "SyntaxError",
     "evalue": "invalid syntax (239626551.py, line 1)",
     "output_type": "error",
     "traceback": [
      "\u001B[1;36m  File \u001B[1;32m\"C:\\Users\\Dave\\AppData\\Local\\Temp\\ipykernel_12180\\239626551.py\"\u001B[1;36m, line \u001B[1;32m1\u001B[0m\n\u001B[1;33m    simple_config = {'n': 7, 'alphabet': ['a','b','c','d'], n_steps_ahead = 3, sample_rate_per_step = 0.10}\u001B[0m\n\u001B[1;37m                                                                          ^\u001B[0m\n\u001B[1;31mSyntaxError\u001B[0m\u001B[1;31m:\u001B[0m invalid syntax\n"
     ]
    }
   ],
   "source": [
    "simple_config = {'n': 7, 'alphabet': ['a','b','c','d'], n_steps_ahead = 3, sample_rate_per_step = 0.10}"
   ]
  },
  {
   "cell_type": "code",
   "execution_count": 28,
   "id": "4bf1ff2f-e88c-45c8-9abc-bc89333b78a2",
   "metadata": {},
   "outputs": [],
   "source": [
    "gs = GameState(simple_config)"
   ]
  },
  {
   "cell_type": "code",
   "execution_count": 29,
   "id": "cf952981-6536-4229-a9ba-11c0ee55ff38",
   "metadata": {},
   "outputs": [],
   "source": [
    "game = Game(simple_config)"
   ]
  },
  {
   "cell_type": "code",
   "execution_count": 30,
   "id": "66cd86cd-c6fb-426b-9187-e86fa2a76f27",
   "metadata": {
    "tags": []
   },
   "outputs": [
    {
     "name": "stdout",
     "output_type": "stream",
     "text": [
      "Player 1:\n",
      "_\n",
      "0\n"
     ]
    },
    {
     "name": "stdin",
     "output_type": "stream",
     "text": [
      "Choose position:  0\n"
     ]
    },
    {
     "name": "stdout",
     "output_type": "stream",
     "text": [
      "Player 2:\n",
      "AI: detected twins in following candidate strings: []\n",
      "AI: candidate: \"a\" risk_score:2.25\n",
      "AI: candidate: \"b\" risk_score:2.25\n",
      "AI: candidate: \"c\" risk_score:2.25\n",
      "AI: candidate: \"d\" risk_score:2.25\n",
      "Player 1:\n",
      "_a_\n",
      "0 1\n"
     ]
    },
    {
     "name": "stdin",
     "output_type": "stream",
     "text": [
      "Choose position:  1\n"
     ]
    },
    {
     "name": "stdout",
     "output_type": "stream",
     "text": [
      "Player 2:\n",
      "AI: detected twins in following candidate strings: ['aa']\n",
      "AI: candidate: \"ab\" risk_score:2.8810158268733854\n",
      "AI: candidate: \"ac\" risk_score:2.8228762919896644\n",
      "AI: candidate: \"ad\" risk_score:2.8266378660637383\n",
      "Player 1:\n",
      "_a_c_\n",
      "0 1 2\n"
     ]
    },
    {
     "name": "stdin",
     "output_type": "stream",
     "text": [
      "Choose position:  1\n"
     ]
    },
    {
     "name": "stdout",
     "output_type": "stream",
     "text": [
      "Player 2:\n",
      "AI: detected twins in following candidate strings: ['aac', 'acc']\n",
      "AI: candidate: \"abc\" risk_score:3.14208984375\n",
      "AI: candidate: \"adc\" risk_score:3.0641276041666665\n",
      "Player 1:\n",
      "_a_d_c_\n",
      "0 1 2 3\n"
     ]
    },
    {
     "name": "stdin",
     "output_type": "stream",
     "text": [
      "Choose position:  0\n"
     ]
    },
    {
     "name": "stdout",
     "output_type": "stream",
     "text": [
      "Player 2:\n",
      "AI: detected twins in following candidate strings: ['aadc']\n",
      "AI: candidate: \"badc\" risk_score:3.2670705782312925\n",
      "AI: candidate: \"cadc\" risk_score:3.3265943877551023\n",
      "AI: candidate: \"dadc\" risk_score:3.7485119047619047\n",
      "Player 1:\n",
      "_b_a_d_c_\n",
      "0 1 2 3 4\n"
     ]
    },
    {
     "name": "stdin",
     "output_type": "stream",
     "text": [
      "Choose position:  0\n"
     ]
    },
    {
     "name": "stdout",
     "output_type": "stream",
     "text": [
      "Player 2:\n",
      "AI: detected twins in following candidate strings: ['bbadc']\n",
      "AI: candidate: \"abadc\" risk_score:3.8605682924493214\n",
      "AI: candidate: \"cbadc\" risk_score:3.4404525160659496\n",
      "AI: candidate: \"dbadc\" risk_score:3.5929791695595696\n",
      "Player 1:\n",
      "_c_b_a_d_c_\n",
      "0 1 2 3 4 5\n"
     ]
    },
    {
     "name": "stdin",
     "output_type": "stream",
     "text": [
      "Choose position:  0\n"
     ]
    },
    {
     "name": "stdout",
     "output_type": "stream",
     "text": [
      "Player 2:\n",
      "AI: detected twins in following candidate strings: ['ccbadc']\n",
      "AI: candidate: \"acbadc\" risk_score:3.8334573412698414\n",
      "AI: candidate: \"bcbadc\" risk_score:4.160590277777777\n",
      "AI: candidate: \"dcbadc\" risk_score:3.8348834325396823\n",
      "Player 1:\n",
      "_a_c_b_a_d_c_\n",
      "0 1 2 3 4 5 6\n"
     ]
    },
    {
     "name": "stdin",
     "output_type": "stream",
     "text": [
      "Choose position:  0\n"
     ]
    },
    {
     "name": "stdout",
     "output_type": "stream",
     "text": [
      "Player 2:\n",
      "AI: detected twins in following candidate strings: ['aacbadc', 'bacbadc']\n",
      "AI: candidate: \"cacbadc\" risk_score:4.121387613732063\n",
      "AI: candidate: \"dacbadc\" risk_score:3.5942722032586873\n",
      "Player2 wins!\n"
     ]
    },
    {
     "name": "stdin",
     "output_type": "stream",
     "text": [
      "Play again? y/n:  n\n"
     ]
    }
   ],
   "source": [
    "game.play()"
   ]
  },
  {
   "cell_type": "code",
   "execution_count": null,
   "id": "83942938-edc3-4528-825a-451fa6b3bdf0",
   "metadata": {},
   "outputs": [],
   "source": []
  },
  {
   "cell_type": "code",
   "execution_count": null,
   "id": "e593b11f-b21b-4712-ba78-da1b6de97aa0",
   "metadata": {},
   "outputs": [],
   "source": []
  }
 ],
 "metadata": {
  "kernelspec": {
   "display_name": "Python 3 (ipykernel)",
   "language": "python",
   "name": "python3"
  },
  "language_info": {
   "codemirror_mode": {
    "name": "ipython",
    "version": 3
   },
   "file_extension": ".py",
   "mimetype": "text/x-python",
   "name": "python",
   "nbconvert_exporter": "python",
   "pygments_lexer": "ipython3",
   "version": "3.7.13"
  }
 },
 "nbformat": 4,
 "nbformat_minor": 5
}